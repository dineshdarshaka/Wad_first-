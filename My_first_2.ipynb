{
  "nbformat": 4,
  "nbformat_minor": 0,
  "metadata": {
    "colab": {
      "provenance": [],
      "authorship_tag": "ABX9TyNHj2mot6i9Khkkd/MklnrX",
      "include_colab_link": true
    },
    "kernelspec": {
      "name": "python3",
      "display_name": "Python 3"
    },
    "language_info": {
      "name": "python"
    }
  },
  "cells": [
    {
      "cell_type": "markdown",
      "metadata": {
        "id": "view-in-github",
        "colab_type": "text"
      },
      "source": [
        "<a href=\"https://colab.research.google.com/github/dineshdarshaka/Wad_first-/blob/main/My_first_2.ipynb\" target=\"_parent\"><img src=\"https://colab.research.google.com/assets/colab-badge.svg\" alt=\"Open In Colab\"/></a>"
      ]
    },
    {
      "cell_type": "code",
      "execution_count": null,
      "metadata": {
        "colab": {
          "base_uri": "https://localhost:8080/"
        },
        "id": "u6_jCrz9K3WT",
        "outputId": "3a4250e1-9e0d-406c-adf7-436350ab15df"
      },
      "outputs": [
        {
          "output_type": "stream",
          "name": "stdout",
          "text": [
            "FLORA FACIAL TISSUES 2 X 160 BOX - Item#mr-47346\n",
            " Rs.185.00 \n",
            "Crimson Bread Sliced - Item#mr-5033670\n",
            " Rs.115.00 \n",
            "Flora Facial Tissues 160S\n",
            "[<span id=\"product-promotion-price\"></span>]\n"
          ]
        }
      ],
      "source": [
        "import requests\n",
        "import json\n",
        "\n",
        "import sys\n",
        "sys.path.insert(0,'bs4.zip')\n",
        "from bs4 import BeautifulSoup\n",
        "\n",
        "#Imitate the Mozilla browser.\n",
        "user_agent = {'User-agent': 'Mozilla/5.0'}\n",
        "  \n",
        "url = 'https://scrape-sm1.github.io/site1/FLORA%20FACIAL%20TISSUES%202%20X%20160%20BOX%20-%20HOUSEHOLD%20-%20Categories%20market1super.com.html'\n",
        "html = requests.get(url).content\n",
        "soup = BeautifulSoup(html, 'html.parser')\n",
        "\n",
        "headings = soup('h1')\n",
        "for heading in headings:\n",
        "    print(heading.text)\n",
        "  \n",
        "price = soup.find('span', {'class': 'regular-price'}).text\n",
        "\n",
        "print(price)\n",
        "\n",
        "url = 'https://scrape-sm1.github.io/site1/Crimson%20Bread%20Sliced%20market1super.com.html'\n",
        "html = requests.get(url).content\n",
        "soup = BeautifulSoup(html, 'html.parser')\n",
        "\n",
        "headings = soup('h1')\n",
        "for heading in headings:\n",
        "    print(heading.text)\n",
        "  \n",
        "price = soup.find('span', {'class': 'regular-price'}).text\n",
        "\n",
        "print(price)\n",
        "\n",
        "url = 'https://glomark.lk/flora-facial-tissues-160s/p/10470'\n",
        "html = requests.get(url).content\n",
        "soup = BeautifulSoup(html, 'html.parser')\n",
        "\n",
        "headings = soup('h1')\n",
        "for heading in headings:\n",
        "    print(heading.text)\n",
        "\n",
        "\n",
        "headings = soup('span')  \n",
        "print(soup.find_all(id='product-promotion-price'))"
      ]
    }
  ]
}